{
 "cells": [
  {
   "cell_type": "code",
   "execution_count": 4,
   "metadata": {},
   "outputs": [
    {
     "name": "stdout",
     "output_type": "stream",
     "text": [
      "True\n"
     ]
    }
   ],
   "source": [
    "# Duplicate Integer\n",
    "\n",
    "# Given an integer array nums, return true if any value appears more than once in the array, otherwise return false.\n",
    "\n",
    "# Example 1:\n",
    "# Input: nums = [1, 2, 3, 3]\n",
    "# Output: true\n",
    "\n",
    "# Example 2:\n",
    "# Input: nums = [1, 2, 3, 4]\n",
    "# Output: false\n",
    "\n",
    "# Solution\n",
    "from typing import List\n",
    "\n",
    "def hasDuplicate(nums: List[int]) -> bool:\n",
    "    duplicateSet = set()\n",
    "\n",
    "    for num in nums:\n",
    "        if num in duplicateSet:\n",
    "            return True\n",
    "        else:\n",
    "            duplicateSet.add(num)\n",
    "        \n",
    "    return False\n",
    "    \n",
    "nums = [1, 2, 3, 3]\n",
    "print(hasDuplicate(nums)) # True"
   ]
  }
 ],
 "metadata": {
  "kernelspec": {
   "display_name": "Python 3",
   "language": "python",
   "name": "python3"
  },
  "language_info": {
   "codemirror_mode": {
    "name": "ipython",
    "version": 3
   },
   "file_extension": ".py",
   "mimetype": "text/x-python",
   "name": "python",
   "nbconvert_exporter": "python",
   "pygments_lexer": "ipython3",
   "version": "3.8.0"
  }
 },
 "nbformat": 4,
 "nbformat_minor": 2
}
