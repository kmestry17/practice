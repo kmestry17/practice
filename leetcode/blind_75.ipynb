{
 "cells": [
  {
   "cell_type": "code",
   "execution_count": null,
   "metadata": {},
   "outputs": [],
   "source": [
    "# Duplicate Integer\n",
    "\n",
    "# Given an integer array nums, return true if any value appears more than once in the array, otherwise return false.\n",
    "\n",
    "# Example 1:\n",
    "# Input: nums = [1, 2, 3, 3]\n",
    "# Output: true\n",
    "\n",
    "# Example 2:\n",
    "# Input: nums = [1, 2, 3, 4]\n",
    "# Output: false\n",
    "\n",
    "# Solution\n",
    "from typing import List\n",
    "\n",
    "def hasDuplicate(nums: List[int]) -> bool:\n",
    "    duplicateSet = set()\n",
    "\n",
    "    for num in nums:\n",
    "        if num in duplicateSet:\n",
    "            return True\n",
    "        else:\n",
    "            duplicateSet.add(num)\n",
    "        \n",
    "    return False\n",
    "    \n",
    "nums = [1, 2, 3, 3]\n",
    "print(hasDuplicate(nums)) # True"
   ]
  },
  {
   "cell_type": "code",
   "execution_count": null,
   "metadata": {},
   "outputs": [],
   "source": [
    "# Is Anagram\n",
    "# Given two strings s and t, return true if the two strings are anagrams of each other, otherwise return false.\n",
    "\n",
    "# An anagram is a string that contains the exact same characters as another string, but the order of the characters can be different.\n",
    "\n",
    "# Example 1:\n",
    "# Input: s = \"racecar\", t = \"carrace\"\n",
    "# Output: true\n",
    "\n",
    "# Example 2:\n",
    "# Input: s = \"jar\", t = \"jam\"\n",
    "# Output: false\n",
    "\n",
    "# Solution\n",
    "def isAnagram(s: str, t: str) -> bool:\n",
    "    return ''.join(sorted(s)) == ''.join(sorted(t))\n",
    "\n",
    "s = \"racecar\"\n",
    "t = \"carrace\"\n",
    "print(isAnagram(s, t)) # True"
   ]
  },
  {
   "cell_type": "code",
   "execution_count": null,
   "metadata": {},
   "outputs": [],
   "source": [
    "# Two Integer Sum\n",
    "# Given an array of integers nums and an integer target, return the indices i and j such that nums[i] + nums[j] == target and i != j.\n",
    "\n",
    "# You may assume that every input has exactly one pair of indices i and j that satisfy the condition.\n",
    "\n",
    "# Return the answer with the smaller index first.\n",
    "\n",
    "# Example 1:\n",
    "# Input: \n",
    "# nums = [3,4,5,6], target = 7\n",
    "# Output: [0,1]\n",
    "\n",
    "# Solution\n",
    "def twoSum(nums: List[int], target: int) -> List[int]:\n",
    "    numberMap = {}\n",
    "\n",
    "    for i, num in enumerate (nums):\n",
    "        diff = target - num\n",
    "        if diff in numberMap:\n",
    "            return [numberMap[diff], i]\n",
    "        numberMap[num] = i"
   ]
  }
 ],
 "metadata": {
  "kernelspec": {
   "display_name": "Python 3",
   "language": "python",
   "name": "python3"
  },
  "language_info": {
   "codemirror_mode": {
    "name": "ipython",
    "version": 3
   },
   "file_extension": ".py",
   "mimetype": "text/x-python",
   "name": "python",
   "nbconvert_exporter": "python",
   "pygments_lexer": "ipython3",
   "version": "3.8.0"
  }
 },
 "nbformat": 4,
 "nbformat_minor": 2
}
